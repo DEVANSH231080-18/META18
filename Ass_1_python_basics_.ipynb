{
  "nbformat": 4,
  "nbformat_minor": 0,
  "metadata": {
    "colab": {
      "provenance": []
    },
    "kernelspec": {
      "name": "python3",
      "display_name": "Python 3"
    },
    "language_info": {
      "name": "python"
    }
  },
  "cells": [
    {
      "cell_type": "markdown",
      "source": [
        "# PYTHON BASICS theory questions\n",
        "\n",
        "\n"
      ],
      "metadata": {
        "id": "yxU83Kk-qc1d"
      }
    },
    {
      "cell_type": "markdown",
      "source": [
        "1. What is Python, and why is it popular\n",
        " - python is an interpreted language which means it executes code from line to line . It is easy to learn because it is similar to english language.\n",
        " It is popular due to following reasons :\n",
        "     \n",
        "     a) huge large community that contribute to it,has many builtin libraries\n",
        "     \n",
        "     b) the syntax is similar to english language so it is user friendly\n",
        "     \n",
        "     c)versatile because it can be used in many different fields like data analytics , data science ,web development,AI etc.\n",
        "\n",
        "2. What is an interpreter in Python\n",
        "  - in python interpreter is a programme that reads and executes the code from line to line.It converts high level code into machine readable instructions during runtime.\n",
        "3. What are pre-defined keywords in Python\n",
        "  - predefined keywords are reserved words in python that have special meaning and purpose, eg of these keywords : for ,else,while,from etc.\n",
        "  You cannot use them as variables names.\n",
        "4. Can keywords be used as variable names\n",
        "  - No, keywords cannot be used as variables names as they are reserved for specified syntactic purpose.\n",
        "5. What is mutability in Python\n",
        "  - Mutability is the ability to make changes to object's state or content in python like list is mutable , one can make changes to list after its creation.\n",
        "6. Why are lists mutable, but tuples are immutable        \n",
        "  - a list is flexible and changeable when data needs to be modified\n",
        "    but a tuple is fixed , it cant be modified or changed for safety reasons.\n",
        "7. What is the difference between “==” and “is” operators in Python\n",
        "  - \"==\" checks if the values are same or not but \"is\" operator checks if the memory location is same or not.\n",
        "8. What are logical operators in Python\n",
        "  \n",
        "  -Logical operators manipulate boolean values (true or false) and return a boolean result based on the logical relationship between the operands. They are used to combine or modify boolean (true/false) values and are used in decision-making processes in programming. The primary logical operators are AND, OR, and NOT, represented by the symbols &&, ||, and !, respectively.\n",
        "9. what is type casting in python\n",
        "  \n",
        "  -it is the process of converting one data type to another  such as : int(\"5\")\n",
        "  is the process of converting string data type to another\n",
        "10.What is the difference between implicit and explicit type casting\n",
        "  - IMPLICIT : done automatically by python( for eg: int+float -> float)\n",
        "   \n",
        "    EXPLICIT : done manually by the programmer using functions like:int(),str() etc.\n",
        "11.What is the purpose of conditional statements in Python\n",
        "  - conditional statements are used to execute code selectively using conditions . Various keywords like : if,else,elif etc. control the flow of code.\n",
        "12. How does the elif statement work\n",
        "  - elif statements are used after if statements , they describe the 2nd condition after if statement. if \"if\" condition is false , else condition will be checked and printed if its true.\n",
        "13. What is the difference between for and while loops\\\n",
        "  - For Loop: it iterates over a sequence like : string,list etc\n",
        "    while loop: it iterates until a condition is met .\n",
        "14. Describe a scenario where a while loop is more suitable than a for loop\n",
        "  - while loop is more suitable tan a for loop where the no. of iterations is not known before hand.\n",
        "               \n"
      ],
      "metadata": {
        "id": "rIGVUgIuqlAw"
      }
    },
    {
      "cell_type": "markdown",
      "source": [
        "# PRACTICAL QUESTIONS\n"
      ],
      "metadata": {
        "id": "wyjshW_R-vJP"
      }
    },
    {
      "cell_type": "code",
      "execution_count": null,
      "metadata": {
        "id": "nxRsOUasqSkh",
        "colab": {
          "base_uri": "https://localhost:8080/"
        },
        "outputId": "b269dc38-2cff-426f-f607-b8988e67207f"
      },
      "outputs": [
        {
          "output_type": "stream",
          "name": "stdout",
          "text": [
            "hello world\n"
          ]
        }
      ],
      "source": [
        "## Q1. Write a Python program to print \"Hello, World!y\n",
        "print(\"Hello World\")"
      ]
    },
    {
      "cell_type": "code",
      "source": [
        "## Q2.Write a Python program that displays your name and age\n",
        "a=\"Devansh gupta\"\n",
        "b=22\n",
        "print(f\"My name is {a}  My age is {b}\")"
      ],
      "metadata": {
        "colab": {
          "base_uri": "https://localhost:8080/"
        },
        "id": "m_cbqOru_CVv",
        "outputId": "12eec008-c11c-49fb-e959-1e5745b4530f"
      },
      "execution_count": null,
      "outputs": [
        {
          "output_type": "stream",
          "name": "stdout",
          "text": [
            "My name is Devansh gupta  My age is 22\n"
          ]
        }
      ]
    },
    {
      "cell_type": "code",
      "source": [
        "## Q3.Write code to print all the pre-defined keywords in Python using the keyword library8\n",
        "help('keywords')"
      ],
      "metadata": {
        "colab": {
          "base_uri": "https://localhost:8080/"
        },
        "id": "nu-8aW1y_tyk",
        "outputId": "0f699785-ea4a-4eb0-85e8-6f4d173d79d7"
      },
      "execution_count": null,
      "outputs": [
        {
          "output_type": "stream",
          "name": "stdout",
          "text": [
            "\n",
            "Here is a list of the Python keywords.  Enter any keyword to get more help.\n",
            "\n",
            "False               class               from                or\n",
            "None                continue            global              pass\n",
            "True                def                 if                  raise\n",
            "and                 del                 import              return\n",
            "as                  elif                in                  try\n",
            "assert              else                is                  while\n",
            "async               except              lambda              with\n",
            "await               finally             nonlocal            yield\n",
            "break               for                 not                 \n",
            "\n"
          ]
        }
      ]
    },
    {
      "cell_type": "code",
      "source": [
        "## Q4.Write a program that checks if a given word is a Python keyword.\n",
        "import keyword\n",
        "word= input(\"enter a word:\")\n",
        "if keyword.iskeyword(word):\n",
        "  print(f\"'{word}' is a python keyword\")\n",
        "else:\n",
        "  print(f\"'{word}' is not a python keyword\")"
      ],
      "metadata": {
        "colab": {
          "base_uri": "https://localhost:8080/"
        },
        "id": "xUxjKBwbAAjZ",
        "outputId": "b8dcda78-3ec2-4c13-9583-defb0c9bddc8"
      },
      "execution_count": null,
      "outputs": [
        {
          "output_type": "stream",
          "name": "stdout",
          "text": [
            "enter a word:for\n",
            "'for' is a python keyword\n"
          ]
        }
      ]
    },
    {
      "cell_type": "code",
      "source": [
        "## Q5:Create a list and tuple in Python, and demonstrate how attempting to change an element works differently for each.\n",
        "lis=[\"orange\",\"mango\",1,2,3]\n",
        "lis.remove(\"orange\")## it removes orange from lis\n",
        "lis\n"
      ],
      "metadata": {
        "colab": {
          "base_uri": "https://localhost:8080/"
        },
        "id": "3g0saE9Se_Ak",
        "outputId": "b278af86-63e5-4bcc-8c9e-331422fe1fad"
      },
      "execution_count": 3,
      "outputs": [
        {
          "output_type": "execute_result",
          "data": {
            "text/plain": [
              "['mango', 1, 2, 3]"
            ]
          },
          "metadata": {},
          "execution_count": 3
        }
      ]
    },
    {
      "cell_type": "code",
      "source": [
        "## now for tuple\n",
        "tupl=(\"orange\",\"mango\",1,2,3)\n",
        "tupl.remove(\"mango\")## it will throw an error on attempting to remove an element\n",
        "tupl"
      ],
      "metadata": {
        "colab": {
          "base_uri": "https://localhost:8080/",
          "height": 193
        },
        "id": "wFIBze8JgI-r",
        "outputId": "8780a8f2-926f-487a-eb22-c3bf3a11c869"
      },
      "execution_count": 4,
      "outputs": [
        {
          "output_type": "error",
          "ename": "AttributeError",
          "evalue": "'tuple' object has no attribute 'remove'",
          "traceback": [
            "\u001b[0;31m---------------------------------------------------------------------------\u001b[0m",
            "\u001b[0;31mAttributeError\u001b[0m                            Traceback (most recent call last)",
            "\u001b[0;32m/tmp/ipython-input-4-1185317501.py\u001b[0m in \u001b[0;36m<cell line: 0>\u001b[0;34m()\u001b[0m\n\u001b[1;32m      1\u001b[0m \u001b[0;31m## now for tuple\u001b[0m\u001b[0;34m\u001b[0m\u001b[0;34m\u001b[0m\u001b[0m\n\u001b[1;32m      2\u001b[0m \u001b[0mtupl\u001b[0m\u001b[0;34m=\u001b[0m\u001b[0;34m(\u001b[0m\u001b[0;34m\"orange\"\u001b[0m\u001b[0;34m,\u001b[0m\u001b[0;34m\"mango\"\u001b[0m\u001b[0;34m,\u001b[0m\u001b[0;36m1\u001b[0m\u001b[0;34m,\u001b[0m\u001b[0;36m2\u001b[0m\u001b[0;34m,\u001b[0m\u001b[0;36m3\u001b[0m\u001b[0;34m)\u001b[0m\u001b[0;34m\u001b[0m\u001b[0;34m\u001b[0m\u001b[0m\n\u001b[0;32m----> 3\u001b[0;31m \u001b[0mtupl\u001b[0m\u001b[0;34m.\u001b[0m\u001b[0mremove\u001b[0m\u001b[0;34m(\u001b[0m\u001b[0;34m\"mango\"\u001b[0m\u001b[0;34m)\u001b[0m\u001b[0;34m\u001b[0m\u001b[0;34m\u001b[0m\u001b[0m\n\u001b[0m\u001b[1;32m      4\u001b[0m \u001b[0mtupl\u001b[0m\u001b[0;34m\u001b[0m\u001b[0;34m\u001b[0m\u001b[0m\n",
            "\u001b[0;31mAttributeError\u001b[0m: 'tuple' object has no attribute 'remove'"
          ]
        }
      ]
    },
    {
      "cell_type": "code",
      "source": [
        "## Q6:Write a function to demonstrate the behavior of mutable and immutable arguments.\n",
        "\n",
        "def modify_arguments(a, b):\n",
        "    # Try modifying the immutable object\n",
        "    a = a + 10\n",
        "    # Try modifying the mutable object\n",
        "    b.append(100)\n",
        "    print(\"Inside function:\")\n",
        "    print(\"a =\", a)\n",
        "    print(\"b =\", b)\n",
        "\n",
        "# Immutable argument (int)\n",
        "x = 5\n",
        "\n",
        "# Mutable argument (list)\n",
        "y = [1, 2, 3]\n",
        "\n",
        "modify_arguments(x, y)\n",
        "\n",
        "print(\"\\nOutside function:\")\n",
        "print(\"x =\", x)  # Immutable: remains unchanged\n",
        "print(\"y =\", y)  # Mutable: changed by the function"
      ],
      "metadata": {
        "colab": {
          "base_uri": "https://localhost:8080/"
        },
        "id": "VymMuMOqim3f",
        "outputId": "74ef0796-57ce-422f-befe-97361d53d352"
      },
      "execution_count": 5,
      "outputs": [
        {
          "output_type": "stream",
          "name": "stdout",
          "text": [
            "Inside function:\n",
            "a = 15\n",
            "b = [1, 2, 3, 100]\n",
            "\n",
            "Outside function:\n",
            "x = 5\n",
            "y = [1, 2, 3, 100]\n"
          ]
        }
      ]
    },
    {
      "cell_type": "code",
      "source": [
        "##Q7:Write a program that performs basic arithmetic operations on two user-input numbers.\n",
        "\n",
        "a = int(input(\"enter first number \"))\n",
        "b = int(input(\"enter second number \"))\n",
        "c = input(\"which arithmatic operation you want to perform: TYPE ad for addition , \"\n",
        "\" s for sbtraction , m for multiplication, d for division,m for modulus , \"\n",
        "\" e for exponential  \")\n",
        "if c == 'ad':\n",
        "  print(a+b)\n",
        "elif c== 's':\n",
        "  print(a-b)\n",
        "elif c=='m':\n",
        "  print(a*b)\n",
        "elif c=='d':\n",
        "  print(a/b)\n",
        "elif c=='m':\n",
        "  print(a%b)\n",
        "elif c== 'e':\n",
        "  print(a**b)\n",
        "else:\n",
        "  print(\"wrong aritmatic operartion\")\n",
        "\n"
      ],
      "metadata": {
        "id": "34mmahFhCPMH",
        "colab": {
          "base_uri": "https://localhost:8080/"
        },
        "outputId": "a8fad98d-50fd-48a3-d7f0-d7b0abe0c73a"
      },
      "execution_count": null,
      "outputs": [
        {
          "output_type": "stream",
          "name": "stdout",
          "text": [
            "enter first number 4\n",
            "enter second number 5\n",
            "which arithmatic operation you want to perform: TYPE ad for addition ,  s for sbtraction , m for multiplication, d for division,m for modulus ,  e for exponentiale\n",
            "1024\n"
          ]
        }
      ]
    },
    {
      "cell_type": "code",
      "source": [
        "## Q8: Write a program to demonstrate the use of logical operators.\n",
        "a= int(input(\"please enter no. a \"))\n",
        "b= int(input(\"please enter no. b \"))\n",
        "if a>b and b<10:\n",
        "  print(\"its logical and operator because it satisfies both a>b and b<10 conditions\")\n",
        "elif a>b or b<10:\n",
        "  print(\"its logical or operator because it satisfies a>b or b<10 condition\")\n",
        "elif not a>b and not b<10:\n",
        "  print(\"its not operator and it satisfy not a>b and not b<10 conditions \")\n",
        "else:\n",
        "  print(\" please enter new numbers\")\n"
      ],
      "metadata": {
        "colab": {
          "base_uri": "https://localhost:8080/"
        },
        "id": "XoBjm1vjrI-J",
        "outputId": "aeb7266a-1e4f-44b2-bb1d-c17934e22f3c"
      },
      "execution_count": null,
      "outputs": [
        {
          "output_type": "stream",
          "name": "stdout",
          "text": [
            "please enter no. a 4\n",
            "please enter no. b 36\n",
            "it not operator and it satisfy not a>b and not b<10 conditions \n"
          ]
        }
      ]
    },
    {
      "cell_type": "code",
      "source": [
        "## Q9: Write a Python program to convert user input from string to integer, float, and boolean types.\n",
        "a = input(\"enter a no.\")\n",
        "type (a)"
      ],
      "metadata": {
        "colab": {
          "base_uri": "https://localhost:8080/"
        },
        "id": "ExWlCy06yxYl",
        "outputId": "2070d62b-6f73-41e1-c28d-b137b0403f88"
      },
      "execution_count": null,
      "outputs": [
        {
          "name": "stdout",
          "output_type": "stream",
          "text": [
            "enter a no.3\n"
          ]
        },
        {
          "output_type": "execute_result",
          "data": {
            "text/plain": [
              "str"
            ]
          },
          "metadata": {},
          "execution_count": 11
        }
      ]
    },
    {
      "cell_type": "code",
      "source": [
        "type(int(a))"
      ],
      "metadata": {
        "colab": {
          "base_uri": "https://localhost:8080/"
        },
        "id": "pJQXhFf3zxKB",
        "outputId": "ed94fce9-9b03-48c0-d29c-cc88c4f84120"
      },
      "execution_count": null,
      "outputs": [
        {
          "output_type": "execute_result",
          "data": {
            "text/plain": [
              "int"
            ]
          },
          "metadata": {},
          "execution_count": 12
        }
      ]
    },
    {
      "cell_type": "code",
      "source": [
        "type(float(a))\n"
      ],
      "metadata": {
        "colab": {
          "base_uri": "https://localhost:8080/"
        },
        "id": "AXHW1PAdz1hi",
        "outputId": "038096db-95f5-4e99-e3f1-ddf378136df4"
      },
      "execution_count": null,
      "outputs": [
        {
          "output_type": "execute_result",
          "data": {
            "text/plain": [
              "float"
            ]
          },
          "metadata": {},
          "execution_count": 15
        }
      ]
    },
    {
      "cell_type": "code",
      "source": [
        "float(a)"
      ],
      "metadata": {
        "colab": {
          "base_uri": "https://localhost:8080/"
        },
        "id": "bvUz5NNYz6dt",
        "outputId": "74e5c0ea-b141-47bf-fc82-a69897570296"
      },
      "execution_count": null,
      "outputs": [
        {
          "output_type": "execute_result",
          "data": {
            "text/plain": [
              "3.0"
            ]
          },
          "metadata": {},
          "execution_count": 17
        }
      ]
    },
    {
      "cell_type": "code",
      "source": [
        "bool(a)"
      ],
      "metadata": {
        "colab": {
          "base_uri": "https://localhost:8080/"
        },
        "id": "ZsmHstEt0BJ3",
        "outputId": "cfa0de0c-7b0a-4c51-ac88-c253aac28af0"
      },
      "execution_count": null,
      "outputs": [
        {
          "output_type": "execute_result",
          "data": {
            "text/plain": [
              "True"
            ]
          },
          "metadata": {},
          "execution_count": 18
        }
      ]
    },
    {
      "cell_type": "code",
      "source": [
        "## Q10: Write code to demonstrate type casting with list elements.\n",
        "## converting list strings to integers\n",
        "str_list=[\"1\",\"2\",\"3\"]\n",
        "int_list=[int(i) for i in str_list]\n",
        "print(int_list)"
      ],
      "metadata": {
        "colab": {
          "base_uri": "https://localhost:8080/"
        },
        "id": "OzSmK8rRdc_Q",
        "outputId": "4d1eed2d-114b-4c65-cee3-0ec5e16dac0d"
      },
      "execution_count": 1,
      "outputs": [
        {
          "output_type": "stream",
          "name": "stdout",
          "text": [
            "[1, 2, 3]\n"
          ]
        }
      ]
    },
    {
      "cell_type": "code",
      "source": [
        "## Q11:Write a program that checks if a number is positive, negative, or zero.\n",
        "a = int(input(\" enter a number \"))\n",
        "if a>0:\n",
        "  print(\"its positive\")\n",
        "elif a<0:\n",
        "  print(\"its negative\")\n",
        "else:\n",
        "  print(\"its zero\")"
      ],
      "metadata": {
        "colab": {
          "base_uri": "https://localhost:8080/"
        },
        "id": "mvU2I2b90Jiw",
        "outputId": "349e1c77-f1a3-4f00-9cb7-b2270244559a"
      },
      "execution_count": null,
      "outputs": [
        {
          "output_type": "stream",
          "name": "stdout",
          "text": [
            " enter a number -10\n",
            "its negative\n"
          ]
        }
      ]
    },
    {
      "cell_type": "code",
      "source": [
        "## Q12: Write a for loop to print numbers from 1 to 10.\n",
        "for i in range(1,11):\n",
        "  print(i,end=' ')"
      ],
      "metadata": {
        "colab": {
          "base_uri": "https://localhost:8080/"
        },
        "id": "CoRPdrHZ2fu-",
        "outputId": "1fd44dba-27b4-44c6-a0c3-98d1291bb656"
      },
      "execution_count": null,
      "outputs": [
        {
          "output_type": "stream",
          "name": "stdout",
          "text": [
            "1 2 3 4 5 6 7 8 9 10 "
          ]
        }
      ]
    },
    {
      "cell_type": "code",
      "source": [
        "## Q13: Write a Python program to find the sum of all even numbers between 1 and 50.\n",
        "Total=0\n",
        "for i in range(1,51):\n",
        "  if i%2==0:\n",
        "    Total+=i\n",
        "print(\"the sum of all the even numbers from 1 and 50 is\",Total)"
      ],
      "metadata": {
        "colab": {
          "base_uri": "https://localhost:8080/"
        },
        "id": "3jGkoJhu21aX",
        "outputId": "64cf2de6-0ee2-4086-ecd0-9862d5017ac5"
      },
      "execution_count": null,
      "outputs": [
        {
          "output_type": "stream",
          "name": "stdout",
          "text": [
            "the sum of all the even numbers from 1 and 50 is 650\n"
          ]
        }
      ]
    },
    {
      "cell_type": "code",
      "source": [
        "## Q14:Write a program to reverse a string using a while loop.\n",
        "a=\"Devansh gupta\"\n",
        "b= list(a)\n",
        "c= \"\"\n",
        "while b:\n",
        "  c+=b.pop()\n",
        "print(\"Reversed string:\",c)"
      ],
      "metadata": {
        "colab": {
          "base_uri": "https://localhost:8080/"
        },
        "id": "G_JjI6R7Sh5w",
        "outputId": "6cab556a-19bb-4eb4-a08c-a16f52b7a788"
      },
      "execution_count": null,
      "outputs": [
        {
          "output_type": "stream",
          "name": "stdout",
          "text": [
            "Reversed string: atpug hsnaveD\n"
          ]
        }
      ]
    },
    {
      "cell_type": "code",
      "source": [
        "## Q15: Write a Python program to calculate the factorial of a number provided by the user using a while loop\n",
        "a=int(input(\"enter a number\"))\n",
        "b=1\n",
        "while a>0:\n",
        "  b=a*b\n",
        "  a=a-1\n",
        "print(b)\n",
        "\n"
      ],
      "metadata": {
        "colab": {
          "base_uri": "https://localhost:8080/"
        },
        "id": "276wjmwpX9rC",
        "outputId": "82c28e56-2f50-4273-d960-f8e868b76a4a"
      },
      "execution_count": null,
      "outputs": [
        {
          "output_type": "stream",
          "name": "stdout",
          "text": [
            "enter a number3\n",
            "6\n"
          ]
        }
      ]
    },
    {
      "cell_type": "code",
      "source": [],
      "metadata": {
        "id": "GOOnTVOueipt"
      },
      "execution_count": null,
      "outputs": []
    },
    {
      "cell_type": "code",
      "source": [],
      "metadata": {
        "id": "btHynMIGBM7o"
      },
      "execution_count": null,
      "outputs": []
    }
  ]
}