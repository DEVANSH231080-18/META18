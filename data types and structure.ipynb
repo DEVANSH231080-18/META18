{
 "cells": [
  {
   "cell_type": "markdown",
   "id": "cd484618-8aee-45a8-9dae-610a64f898c3",
   "metadata": {},
   "source": [
    "Q1: What are data structures, and why are they important?\n",
    "\n",
    "Ans: data structures are used to store and organise different data types for easy access.There are different types of data structure like “string”,”list”,”tuple” etc . These are all used to store different data types.These are important to access elements whenever required , change them . some type like tuple do not allow for changes in its elements \n",
    "\n",
    "Q2: Explain the difference between mutable and immutable data types with examples?\n",
    "\n",
    "Ans: Mutable data types are the one that can be added , modified or removed are known as mutable data types. Examples of mutable data types are: list ,dictionary,set. Immutable data types does not allow changes of its elements , add and remove after they have been created.\n",
    "Examples : “strings”,”tuples”.\n",
    "\n",
    "Q3:What are the main differences between lists and tuples in Python?\n",
    "\n",
    "Ans: The main difference in list and tuples is that list is mutable while tuples are not.\n",
    "List elements are stored in square brackets while tuple elements are stored in round parenthesis.Tuples are used to store passwords , adhar no.s which cant be changed once added. While list store data that needs modification or change.\n",
    "\n",
    "Q4:Describe how dictionaries store data ?\n",
    "\n",
    "Ans: Dictionaries store data in the form of key and value. Every key is unique and has some value. Any value can be accessed by calling its respective key.  \n",
    "\n",
    "Q5:Why might you use a set instead of a list in Python?\n",
    "\n",
    "Ans: set is unordered collection of unique elements. Whenever we dont want duplicate values sets are used and  when need to perform set operations like union, intersection, or difference.\n",
    "\n",
    "Q6:What is a string in Python, and how is it different from a list?\n",
    "\n",
    "Ans: STRING : 1)it is sequence of characters that are stored with single or double quotes.\n",
    "                         2)these are immutables\n",
    "\t\t \n",
    "         LIST:1) it is sequence of data types stored in square brackets.\n",
    "    \t      2) these are mutable\n",
    "\n",
    "Q7:How do tuples ensure data integrity in Python?\n",
    "\n",
    "Ans: Tuples do not allow change , add or removal of any element .This prevents any accidental change of data and hence maintains data integrity .\n",
    "\n",
    "Q8:What is a hash table, and how does it relate to dictionaries in Python?\n",
    " \n",
    " Ans: hash table is data structure that stores dictionary keys by executing hash function which assigns the key value to a particular memory location .That’s how it quickly returns key value whenever called.\n",
    "\n",
    "Q9:Can lists contain different data types in Python?\n",
    "\n",
    "Ans: yes,list can contain different data types .It can contain all types of data like string,boolean,integer etc.\n",
    "\n",
    "Q10:Explain why strings are immutable in Python?\n",
    "\n",
    "Ans: In Python, strings are immutable, meaning they cannot be changed once created. This ensures safety when sharing strings, allows them to be used as reliable dictionary keys through consistent hashing, and improves performance. It also avoids unexpected side effects, making the code easier to manage and debug.\n",
    "\n",
    "Q11: What advantages do dictionaries offer over lists for certain tasks?\n",
    "\n",
    "Ans:1)Keys in a dictionary are unique. This prevents accidental duplicate entries which are common in lists unless explicitly checked.\n",
    "       2)You can dynamically add/update entries by key without worrying about position/index.\n",
    "\n",
    "Q12: Describe a scenario where using a tuple would be preferable over a list.\n",
    "\n",
    "Ans: using a tuple would be better where you want your data to be secure because tuple is immutable. For example : you have store passwords so you dont want that to be modified .\n",
    "\n",
    "Q13: How do sets handle duplicate values in Python\n",
    "\n",
    "Ans:Sets automatically remove duplicates — they only keep unique values.\n",
    "\n",
    "Q14:How does the “in” keyword work differently for lists and dictionaries?\n",
    "\n",
    "Ans:It checks if something exists inside a collection — like a list, dictionary, set, or string.But it works a bit differently for lists and dictionaries:\n",
    "In list it checks whether a value is present in list or not \n",
    "But in dictionaries it checks whether a key is present or not ___ not the value!\n",
    "\n",
    "Q15: Can you modify the elements of a tuple? Explain why or why not?\n",
    "\n",
    "Ans: We cannot modify elements in tuples because tuples are immutable. It is so because tuples are meant to be more safe and faster because it stores less memory space.\n",
    "\n",
    "Q16: What is a nested dictionary, and give an example of its use case?\n",
    "\n",
    "Ans:A nested dictionary is a dictionary inside another dictionary.It allows you to store more complex or structured data, like a table or records with sub-records.\n",
    "1)Student Database\n",
    " Store details like name, age, and grades for each student using their ID as the key.\n",
    "\n",
    "\n",
    "2)Employee Records\n",
    " Manage employee data such as name, department, and salary by employee ID.\n",
    "\n",
    "\n",
    "3)Library Management System\n",
    " Keep track of books with details like title, author, and availability status by book ID.\n",
    "\n",
    "Q17: Describe the time complexity of accessing elements in a dictionary\n",
    "\n",
    "Ans:Time Complexity of Dictionary Operations in Python\n",
    "Accessing a value by key → O(1) (Average Case)\n",
    "\n",
    "\n",
    "Inserting or updating a key-value pair → O(1) (Average Case)\n",
    "\n",
    "\n",
    "Deleting a key → O(1) (Average Case)\n",
    "\n",
    "\n",
    "Worst Case (rare, due to hash collisions) → O(n)\n",
    "\n",
    "\n",
    " Python dictionaries are fast because they use hash tables internally.\n",
    "\n",
    "Q18: In what situations are lists preferred over dictionaries\n",
    "\n",
    "Ans:Simple Collections\n",
    " When you're storing a simple group of values (e.g., numbers, names) without needing keys.\n",
    "\n",
    "\n",
    "Index-Based Access\n",
    " When you need to access items by position (e.g., list[0], list[1]).\n",
    "\n",
    "\n",
    "Duplicates Are Allowed\n",
    " When you want to store repeated values (dictionaries don't allow duplicate keys).\n",
    "\n",
    "\n",
    "Iteration in Order\n",
    " When you want to loop through items in the order they were added.\n",
    "\n",
    "\n",
    "Sorting is Needed\n",
    " Lists can be easily sorted using sort() or sorted() functions.\n",
    "\n",
    "\n",
    "Memory Efficiency\n",
    " Lists use less memory than dictionaries for small or simple datasets.\n",
    "\n",
    "Q19:Why are dictionaries considered unordered, and how does that affect data retrieval?\n",
    "\n",
    "Ans:Before Python 3.7:\n",
    "Dictionaries were considered unordered.\n",
    "\n",
    "\n",
    "The order of elements was not guaranteed.\n",
    "\n",
    "\n",
    "They used hash tables focused on fast key access, not order.\n",
    "\n",
    "\n",
    "Iterating over a dictionary could return keys in any order.\n",
    "\n",
    "\n",
    "From Python 3.7 onwards:\n",
    "Dictionaries preserve insertion order.\n",
    "\n",
    "\n",
    "Items appear in the order they were added.\n",
    "\n",
    "\n",
    "This makes iteration predictable and ordered.\n",
    "\n",
    "\n",
    "Data Retrieval:\n",
    "Accessing a value by key (e.g., d['name']) is O(1) (very fast).\n",
    "\n",
    "\n",
    "Order does not affect retrieval speed.\n",
    "\n",
    "\n",
    "Iterating over keys/values will now follow the insertion order (Python 3.7+).\n",
    "\n",
    "\n",
    "Q20:Explain the difference between a list and a dictionary in terms of data retrieval.\n",
    "\n",
    "Ans:In terms of data retrieval list is slower than dictionary this is so because dictionary uses hash table data structure to store a key in memory hence it returns the value instant when called\n",
    "FOR LIST:Time Complexity: O(1) for direct index access, O(n) for searching a value.\n",
    "\n"
   ]
  },
  {
   "cell_type": "markdown",
   "id": "12d3756e-847f-4c01-a9c9-14a47765fbea",
   "metadata": {},
   "source": [
    "## QUESTIONS\n",
    "\n",
    "1)Write a code to create a string with your name and print it\n",
    "\n",
    "2)Write a code to find the length of the string \"Hello World\n",
    "\n",
    "3)Write a code to slice the first 3 characters from the string \"Python Programming\"\n",
    "\n",
    "4)Write a code to convert the string \"hello\" to uppercase\n",
    "\n",
    "5)Write a code to replace the word \"apple\" with \"orange\" in the string \"I like apple\"\n",
    "\n",
    "6)Write a code to create a list with numbers 1 to 5 and print it\n",
    "\n",
    "7)Write a code to append the number 10 to the list [1, 2, 3, 4]\n",
    "\n",
    "8)Write a code to remove the number 3 from the list [1, 2, 3, 4, 5]\n",
    "\n",
    "9)Write a code to access the second element in the list ['a', 'b', 'c', 'd']\n",
    "\n",
    "10)Write a code to reverse the list [10, 20, 30, 40, 50].\n"
   ]
  },
  {
   "cell_type": "code",
   "execution_count": 21,
   "id": "28e1f85b-2015-4662-bf14-23764993555f",
   "metadata": {},
   "outputs": [
    {
     "name": "stdout",
     "output_type": "stream",
     "text": [
      "devansh gupta\n"
     ]
    }
   ],
   "source": [
    "##1)\n",
    "A=\"devansh gupta\"\n",
    "print(A)"
   ]
  },
  {
   "cell_type": "code",
   "execution_count": 5,
   "id": "1cee4057-581f-4724-9635-40fa6badbaad",
   "metadata": {},
   "outputs": [
    {
     "name": "stdout",
     "output_type": "stream",
     "text": [
      "11\n"
     ]
    }
   ],
   "source": [
    "##2)\n",
    "a=\"Hello World\"\n",
    "print(len(a))"
   ]
  },
  {
   "cell_type": "code",
   "execution_count": 6,
   "id": "5a6362af-2dbe-4104-b062-9a6d20dacda0",
   "metadata": {},
   "outputs": [
    {
     "data": {
      "text/plain": [
       "'Pyt'"
      ]
     },
     "execution_count": 6,
     "metadata": {},
     "output_type": "execute_result"
    }
   ],
   "source": [
    "##3)\n",
    "b=\"Python Programming\"\n",
    "b[:3]"
   ]
  },
  {
   "cell_type": "code",
   "execution_count": 7,
   "id": "9f3b4ba9-3ff8-4a02-a733-b5e42d12d234",
   "metadata": {},
   "outputs": [
    {
     "data": {
      "text/plain": [
       "'HELLO'"
      ]
     },
     "execution_count": 7,
     "metadata": {},
     "output_type": "execute_result"
    }
   ],
   "source": [
    "##4)\n",
    "a=\"hello\"\n",
    "a.upper()"
   ]
  },
  {
   "cell_type": "code",
   "execution_count": 9,
   "id": "0c56af4c-8386-4a31-880f-4a1eb7009c87",
   "metadata": {},
   "outputs": [
    {
     "data": {
      "text/plain": [
       "'I like orange'"
      ]
     },
     "execution_count": 9,
     "metadata": {},
     "output_type": "execute_result"
    }
   ],
   "source": [
    "##5)\n",
    "a=\"I like apple\"\n",
    "a.replace(\"apple\",\"orange\")\n"
   ]
  },
  {
   "cell_type": "code",
   "execution_count": 16,
   "id": "2579a707-b1f9-4f8e-bdb1-1730bb6e05fb",
   "metadata": {},
   "outputs": [
    {
     "name": "stdout",
     "output_type": "stream",
     "text": [
      "[1, 2, 3, 4, 5]\n"
     ]
    }
   ],
   "source": [
    "##6)\n",
    "a=[]\n",
    "for i in range(1,6):\n",
    "    a.append(i)\n",
    "print(a)"
   ]
  },
  {
   "cell_type": "code",
   "execution_count": 29,
   "id": "686bf671-c2e6-42aa-a9f2-6be925a53bae",
   "metadata": {},
   "outputs": [
    {
     "data": {
      "text/plain": [
       "[1, 2, 3, 4, 10]"
      ]
     },
     "execution_count": 29,
     "metadata": {},
     "output_type": "execute_result"
    }
   ],
   "source": [
    "##7)\n",
    "a=[1, 2, 3, 4]\n",
    "\n",
    "a.append(10)\n",
    "a"
   ]
  },
  {
   "cell_type": "code",
   "execution_count": 30,
   "id": "3210b6f7-8fbc-42c9-9beb-486b373df651",
   "metadata": {},
   "outputs": [
    {
     "data": {
      "text/plain": [
       "[1, 2, 4, 5]"
      ]
     },
     "execution_count": 30,
     "metadata": {},
     "output_type": "execute_result"
    }
   ],
   "source": [
    "##8)\n",
    "a=[1, 2, 3, 4, 5]\n",
    "a.remove(3)\n",
    "a"
   ]
  },
  {
   "cell_type": "code",
   "execution_count": 31,
   "id": "51fd8290-910b-4f7d-8f7a-afb888830326",
   "metadata": {},
   "outputs": [
    {
     "data": {
      "text/plain": [
       "'b'"
      ]
     },
     "execution_count": 31,
     "metadata": {},
     "output_type": "execute_result"
    }
   ],
   "source": [
    "##9)\n",
    "a=['a', 'b', 'c', 'd']\n",
    "a[1]"
   ]
  },
  {
   "cell_type": "code",
   "execution_count": 32,
   "id": "96665a82-79ca-4d20-a81f-a5e944c3da8c",
   "metadata": {},
   "outputs": [
    {
     "name": "stdout",
     "output_type": "stream",
     "text": [
      "[50, 40, 30, 20, 10]\n"
     ]
    }
   ],
   "source": [
    "##10)\n",
    "a=[10, 20, 30, 40, 50]\n",
    "b=[]\n",
    "for i in range(len(a)-1,-1,-1):\n",
    "    b.append(a[i])\n",
    "print(b)    "
   ]
  },
  {
   "cell_type": "code",
   "execution_count": 33,
   "id": "0c6a85ba-8e6a-4789-be45-4090957ca0d2",
   "metadata": {},
   "outputs": [
    {
     "data": {
      "text/plain": [
       "[50, 40, 30, 20, 10]"
      ]
     },
     "execution_count": 33,
     "metadata": {},
     "output_type": "execute_result"
    }
   ],
   "source": [
    "##10) other way\n",
    "a=[10, 20, 30, 40, 50]\n",
    "a[::-1]"
   ]
  },
  {
   "cell_type": "markdown",
   "id": "babf9a62-cb26-4f74-ad76-baca05d59690",
   "metadata": {},
   "source": [
    "### QUESTIONS\n",
    "\n",
    "11. Write a code to create a tuple with the elements 100, 200, 300 and print it.\n",
    "\n",
    "12. Write a code to access the second-to-last element of the tuple ('red', 'green', 'blue', 'yellow').\n",
    "\n",
    "13. Write a code to find the minimum number in the tuple (10, 20, 5, 15).\n",
    "\n",
    "14. Write a code to find the index of the element \"cat\" in the tuple ('dog', 'cat', 'rabbit').\n",
    "\n",
    "15. Write a code to create a tuple containing three different fruits and check if \"kiwi\" is in it.\n",
    "\n",
    "16. Write a code to create a set with the elements 'a', 'b', 'c' and print it.\n",
    "\n",
    "17. Write a code to clear all elements from the set {1, 2, 3, 4, 5}.\n",
    "\n",
    "18. Write a code to remove the element 4 from the set {1, 2, 3, 4}.\n",
    "\n",
    "19. Write a code to find the union of two sets {1, 2, 3} and {3, 4, 5}.\n",
    "\n",
    "20. Write a code to find the intersection of two sets {1, 2, 3} and {2, 3, 4}."
   ]
  },
  {
   "cell_type": "code",
   "execution_count": 36,
   "id": "7e462b97-7c73-4b5d-91dd-f6d40068246e",
   "metadata": {},
   "outputs": [
    {
     "name": "stdout",
     "output_type": "stream",
     "text": [
      "(100, 200, 300)\n"
     ]
    }
   ],
   "source": [
    "##11)\n",
    "a=(100,200,300)\n",
    "print(a)"
   ]
  },
  {
   "cell_type": "code",
   "execution_count": 39,
   "id": "1944108f-927f-4118-b83b-233c2c3ef519",
   "metadata": {},
   "outputs": [
    {
     "data": {
      "text/plain": [
       "('green', 'blue', 'yellow')"
      ]
     },
     "execution_count": 39,
     "metadata": {},
     "output_type": "execute_result"
    }
   ],
   "source": [
    "##12)\n",
    "a=('red', 'green', 'blue', 'yellow')\n",
    "a[1:]"
   ]
  },
  {
   "cell_type": "code",
   "execution_count": 41,
   "id": "7476748c-f7c2-487b-8862-cc0a80c30b18",
   "metadata": {},
   "outputs": [
    {
     "data": {
      "text/plain": [
       "5"
      ]
     },
     "execution_count": 41,
     "metadata": {},
     "output_type": "execute_result"
    }
   ],
   "source": [
    "##13)\n",
    "a=(10, 20, 5, 15)\n",
    "b=min(a)\n",
    "b"
   ]
  },
  {
   "cell_type": "code",
   "execution_count": 42,
   "id": "a77a2b77-efe8-4e87-a780-0c833fce0b32",
   "metadata": {},
   "outputs": [
    {
     "data": {
      "text/plain": [
       "1"
      ]
     },
     "execution_count": 42,
     "metadata": {},
     "output_type": "execute_result"
    }
   ],
   "source": [
    "##14)\n",
    "a=('dog', 'cat', 'rabbit')\n",
    "a.index(\"cat\")"
   ]
  },
  {
   "cell_type": "code",
   "execution_count": 43,
   "id": "36c9564e-8f57-4a74-95f9-ff52cbe6898b",
   "metadata": {},
   "outputs": [
    {
     "name": "stdout",
     "output_type": "stream",
     "text": [
      "kiwi is not in a \n"
     ]
    }
   ],
   "source": [
    "##15)\n",
    "a=(\"mango\",\"orange\",\"pineapple\")\n",
    "if \"kiwi\" in a :\n",
    "    print(\"kiwi is in a \")\n",
    "else:\n",
    "    print(\"kiwi is not in a \")"
   ]
  },
  {
   "cell_type": "code",
   "execution_count": 45,
   "id": "8206052a-439c-491c-92dc-df76934a3b58",
   "metadata": {},
   "outputs": [
    {
     "name": "stdout",
     "output_type": "stream",
     "text": [
      "{'b', 'a', 'c'}\n"
     ]
    }
   ],
   "source": [
    "##16)\n",
    "a={'a', 'b', 'c'}\n",
    "print(a)"
   ]
  },
  {
   "cell_type": "code",
   "execution_count": 46,
   "id": "b4b71b92-fd58-47a2-a9e3-0f0c7c15a2cb",
   "metadata": {},
   "outputs": [
    {
     "data": {
      "text/plain": [
       "set()"
      ]
     },
     "execution_count": 46,
     "metadata": {},
     "output_type": "execute_result"
    }
   ],
   "source": [
    "##17)\n",
    "a={1, 2, 3, 4, 5}\n",
    "a.clear()\n",
    "a\n"
   ]
  },
  {
   "cell_type": "code",
   "execution_count": 47,
   "id": "33f4523e-d0f1-489c-8fa8-4928fb943cac",
   "metadata": {},
   "outputs": [
    {
     "data": {
      "text/plain": [
       "{1, 2, 3}"
      ]
     },
     "execution_count": 47,
     "metadata": {},
     "output_type": "execute_result"
    }
   ],
   "source": [
    "##18)\n",
    "a={1, 2, 3, 4}\n",
    "a.remove(4)\n",
    "a"
   ]
  },
  {
   "cell_type": "code",
   "execution_count": 50,
   "id": "f54c6bb9-bd25-4d3f-ad5d-16f1867ff174",
   "metadata": {},
   "outputs": [
    {
     "data": {
      "text/plain": [
       "{1, 2, 3, 4, 5}"
      ]
     },
     "execution_count": 50,
     "metadata": {},
     "output_type": "execute_result"
    }
   ],
   "source": [
    "##19)\n",
    "a={1, 2, 3}\n",
    "b= {3, 4, 5}\n",
    "a|b\n"
   ]
  },
  {
   "cell_type": "code",
   "execution_count": 51,
   "id": "b029fefa-5523-477c-a869-e1906dce9928",
   "metadata": {},
   "outputs": [
    {
     "data": {
      "text/plain": [
       "{2, 3}"
      ]
     },
     "execution_count": 51,
     "metadata": {},
     "output_type": "execute_result"
    }
   ],
   "source": [
    "##20)\n",
    "a={1, 2, 3}\n",
    "b={2, 3, 4}\n",
    "a&b"
   ]
  },
  {
   "cell_type": "markdown",
   "id": "576799b2-1cca-43ab-9295-b729a6b0f5d7",
   "metadata": {},
   "source": [
    "## QUESTIONS ##\n",
    "\n",
    "21. Write a code to create a dictionary with the keys \"name\", \"age\", and \"city\", and print it.\n",
    "\n",
    "22. Write a code to add a new key-value pair \"country\": \"USA\" to the dictionary {'name': 'John', 'age': 25}.\n",
    "\n",
    "23. Write a code to access the value associated with the key \"name\" in the dictionary {'name': 'Alice', 'age': 30}.\n",
    "\n",
    "24. Write a code to remove the key \"age\" from the dictionary {'name': 'Bob', 'age': 22, 'city': 'New York'}.\n",
    "\n",
    "25. Write a code to check if the key \"city\" exists in the dictionary {'name': 'Alice', 'city': 'Paris'}.\n",
    "\n",
    "26. Write a code to create a list, a tuple, and a dictionary, and print them all.\n",
    "\n",
    "27. Write a code to create a list of 5 random numbers between 1 and 100, sort it in ascending order, and print the\n",
    "result.(replaced)\n",
    "\n",
    "28. Write a code to create a list with strings and print the element at the third index.\n",
    "\n",
    "29. Write a code to combine two dictionaries into one and print the result.\n",
    "\n",
    "30. Write a code to convert a list of strings into a set."
   ]
  },
  {
   "cell_type": "code",
   "execution_count": 3,
   "id": "5db51b56-0041-4bc1-8be4-dbb6481dd8c0",
   "metadata": {},
   "outputs": [
    {
     "name": "stdout",
     "output_type": "stream",
     "text": [
      "{'name': 'devansh', 'age': 21, 'city': 'morinda'}\n"
     ]
    }
   ],
   "source": [
    "##21\n",
    "a={\"name\":\"devansh\",\"age\":21,\"city\":\"morinda\"}\n",
    "print(a)"
   ]
  },
  {
   "cell_type": "code",
   "execution_count": 4,
   "id": "2e5d465f-1c3b-4602-9e0c-d5a4aa6ddcc3",
   "metadata": {},
   "outputs": [
    {
     "data": {
      "text/plain": [
       "{'name': 'John', 'age': 25, 'country': 'USA'}"
      ]
     },
     "execution_count": 4,
     "metadata": {},
     "output_type": "execute_result"
    }
   ],
   "source": [
    "##22\n",
    "a= {'name': 'John', 'age': 25}\n",
    "a[\"country\"]=\"USA\"\n",
    "a"
   ]
  },
  {
   "cell_type": "code",
   "execution_count": 5,
   "id": "d88de6f9-410f-4ca7-9dae-38d19787dfd4",
   "metadata": {},
   "outputs": [
    {
     "data": {
      "text/plain": [
       "'Alice'"
      ]
     },
     "execution_count": 5,
     "metadata": {},
     "output_type": "execute_result"
    }
   ],
   "source": [
    "##23\n",
    "a = {'name': 'Alice', 'age': 30}\n",
    "a.get(\"name\")"
   ]
  },
  {
   "cell_type": "code",
   "execution_count": 8,
   "id": "fcaff853-238d-48d2-bed7-bdc5ef197848",
   "metadata": {},
   "outputs": [
    {
     "data": {
      "text/plain": [
       "{'name': 'Bob', 'city': 'New York'}"
      ]
     },
     "execution_count": 8,
     "metadata": {},
     "output_type": "execute_result"
    }
   ],
   "source": [
    "##24\n",
    "a={'name': 'Bob', 'age': 22, 'city': 'New York'}\n",
    "a.pop(\"age\")\n",
    "a"
   ]
  },
  {
   "cell_type": "code",
   "execution_count": 10,
   "id": "adf151b4-e4f9-49ac-ace1-a06951f7b468",
   "metadata": {},
   "outputs": [
    {
     "data": {
      "text/plain": [
       "True"
      ]
     },
     "execution_count": 10,
     "metadata": {},
     "output_type": "execute_result"
    }
   ],
   "source": [
    "##25\n",
    "a={'name': 'Alice', 'city': 'Paris'}\n",
    "\"city\" in a"
   ]
  },
  {
   "cell_type": "code",
   "execution_count": 12,
   "id": "f5d7c27c-5dba-4fb7-ab0c-ed559c701287",
   "metadata": {},
   "outputs": [
    {
     "name": "stdout",
     "output_type": "stream",
     "text": [
      "list:  [1, 2, 3, 4, 5]\n",
      "tuple:  (1, 2, 3, 4, 5)\n",
      "dictionary:  {1: 1, 2: 4, 3: 9, 4: 16, 5: 25}\n"
     ]
    }
   ],
   "source": [
    "##26 \n",
    "## list\n",
    "my_list=[]\n",
    "for i in range(1,6):\n",
    "    my_list.append(i)\n",
    "\n",
    "## for tuple\n",
    "my_tuple=tuple(my_list)\n",
    "\n",
    "## for dictionary\n",
    "my_dict={}\n",
    "for i in range(1,6):\n",
    "    my_dict[i]=i**2\n",
    "\n",
    "print(\"list: \",my_list)\n",
    "print(\"tuple: \",my_tuple)\n",
    "print(\"dictionary: \",my_dict)"
   ]
  },
  {
   "cell_type": "code",
   "execution_count": 14,
   "id": "3f2759d6-dcca-4058-84b8-e29095cdd275",
   "metadata": {},
   "outputs": [
    {
     "data": {
      "text/plain": [
       "[1, 2, 6, 10, 46]"
      ]
     },
     "execution_count": 14,
     "metadata": {},
     "output_type": "execute_result"
    }
   ],
   "source": [
    "##27\n",
    "a=[6,1,10,2,46]\n",
    "a.sort()\n",
    "a"
   ]
  },
  {
   "cell_type": "code",
   "execution_count": 16,
   "id": "ff0f528f-a21f-4a86-8c11-86fc932b4ac8",
   "metadata": {},
   "outputs": [
    {
     "data": {
      "text/plain": [
       "['apple', 'mango', 'banana', 'pineapple', 'grapes']"
      ]
     },
     "execution_count": 16,
     "metadata": {},
     "output_type": "execute_result"
    }
   ],
   "source": [
    "##28\n",
    "a=[\"apple\",\"mango\",\"banana\",\"cherry\",\"grapes\"]\n",
    "a[3]=\"pineapple\"\n",
    "a"
   ]
  },
  {
   "cell_type": "code",
   "execution_count": 18,
   "id": "ec76b75d-2d55-46b2-88a5-977c55bf340d",
   "metadata": {},
   "outputs": [
    {
     "data": {
      "text/plain": [
       "{'name': 'devansh',\n",
       " 'age': 21,\n",
       " 'city': 'morinda',\n",
       " 'subject': 'metta',\n",
       " 'occupation': 'student'}"
      ]
     },
     "execution_count": 18,
     "metadata": {},
     "output_type": "execute_result"
    }
   ],
   "source": [
    "##29\n",
    "a={\"name\":\"devansh\",\"age\":21,\"city\":\"morinda\"}\n",
    "b={\"subject\":\"metta\",\"occupation\":\"student\"}\n",
    "a.update(b)\n",
    "a"
   ]
  },
  {
   "cell_type": "code",
   "execution_count": 20,
   "id": "4bc307d7-6891-4dee-9c3a-65aa16c02b8d",
   "metadata": {},
   "outputs": [
    {
     "data": {
      "text/plain": [
       "{'devansh', 'gupta'}"
      ]
     },
     "execution_count": 20,
     "metadata": {},
     "output_type": "execute_result"
    }
   ],
   "source": [
    "##30\n",
    "my_list=[\"devansh\",\"gupta\"]\n",
    "my_set=set(my_list)\n",
    "my_set"
   ]
  },
  {
   "cell_type": "code",
   "execution_count": null,
   "id": "732a3d8f-6eb0-462d-8965-0ebf79b19135",
   "metadata": {},
   "outputs": [],
   "source": []
  }
 ],
 "metadata": {
  "kernelspec": {
   "display_name": "Python 3 (ipykernel)",
   "language": "python",
   "name": "python3"
  },
  "language_info": {
   "codemirror_mode": {
    "name": "ipython",
    "version": 3
   },
   "file_extension": ".py",
   "mimetype": "text/x-python",
   "name": "python",
   "nbconvert_exporter": "python",
   "pygments_lexer": "ipython3",
   "version": "3.13.5"
  }
 },
 "nbformat": 4,
 "nbformat_minor": 5
}
