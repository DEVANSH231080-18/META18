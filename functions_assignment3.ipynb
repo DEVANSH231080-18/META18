{
 "cells": [
  {
   "cell_type": "markdown",
   "id": "695bb3d5-219e-4501-af88-5033ff8a930d",
   "metadata": {},
   "source": [
    "1. Write a Python function that takes a list of numbers as input and returns the sum of all even numbers in\n",
    "the list.\n",
    "\n",
    "2. Create a Python function that accepts a string and returns the reverse of that string.\n",
    "\n",
    "\n",
    "3. Implement a Python function that takes a list of integers and returns a new list containing the squares of\n",
    "each number.\n",
    "\n",
    "4. Write a Python function that checks if a given number is prime or not from 1 to 200.\n",
    "\n",
    "\n",
    "5. Create an iterator class in Python that generates the Fibonacci sequence up to a specified number of\n",
    "terms.\n",
    "\n",
    "6. Write a generator function in Python that yields the powers of 2 up to a given exponent.\n",
    "\n",
    "7. Implement a generator function that reads a file line by line and yields each line as a string.\n",
    "\n",
    "8. Use a lambda function in Python to sort a list of tuples based on the second element of each tuple.\n",
    "\n",
    "9. Write a Python program that uses `map()` to convert a list of temperatures from Celsius to Fahrenheit.\n",
    "\n",
    "10. Create a Python program that uses `filter()` to remove all the vowels from a given string.\n",
    "\n",
    "\n",
    "11) Imagine an accounting routine used in a book shop. It works on a list with sublists, which look like this:\n",
    "\n",
    "Write a Python program, which returns a list with 2-tuples. Each tuple consists of the order number and the\n",
    "product of the price per item and the quantity. The product should be increased by 10,- € if the value of the\n",
    "order is smaller than 100,00 €.\n",
    "\n",
    "Write a Python program using lambda and map."
   ]
  },
  {
   "cell_type": "code",
   "execution_count": 5,
   "id": "7cf32b34-8152-4183-8969-92cb12184881",
   "metadata": {},
   "outputs": [
    {
     "data": {
      "text/plain": [
       "[2, 4, 6, 8]"
      ]
     },
     "execution_count": 5,
     "metadata": {},
     "output_type": "execute_result"
    }
   ],
   "source": [
    "##1\n",
    "lists=[1,2,3,4,5,6,7,7,8,9]\n",
    "func=list(filter(lambda x:x%2==0,lists))\n",
    "func"
   ]
  },
  {
   "cell_type": "code",
   "execution_count": 6,
   "id": "36e04f28-74ac-40d8-92ad-ab1df06b2391",
   "metadata": {},
   "outputs": [],
   "source": [
    "##2\n",
    "reverse=lambda x:x[::-1]"
   ]
  },
  {
   "cell_type": "code",
   "execution_count": 7,
   "id": "3d4fe366-d5c1-4a7c-b77c-ab0f976c5538",
   "metadata": {},
   "outputs": [
    {
     "data": {
      "text/plain": [
       "'olleh'"
      ]
     },
     "execution_count": 7,
     "metadata": {},
     "output_type": "execute_result"
    }
   ],
   "source": [
    "reverse(\"hello\")"
   ]
  },
  {
   "cell_type": "code",
   "execution_count": 17,
   "id": "b6216934-9d66-46e2-befc-c77c45d330f9",
   "metadata": {},
   "outputs": [],
   "source": [
    "##3\n",
    "new=[]\n",
    "def square(x):\n",
    "    for i in x:\n",
    "        new.append(i**2)\n",
    "    return new"
   ]
  },
  {
   "cell_type": "code",
   "execution_count": 18,
   "id": "8f70cccc-eb9a-445f-8be6-0e80c58f9dc8",
   "metadata": {},
   "outputs": [
    {
     "data": {
      "text/plain": [
       "[1, 4, 9, 16, 25]"
      ]
     },
     "execution_count": 18,
     "metadata": {},
     "output_type": "execute_result"
    }
   ],
   "source": [
    "square([1,2,3,4,5])"
   ]
  },
  {
   "cell_type": "code",
   "execution_count": 22,
   "id": "40a7dcb4-5a06-48c8-9fb3-1203e86fbb56",
   "metadata": {},
   "outputs": [],
   "source": [
    "##4\n",
    "def prime(n):\n",
    "    if n<=1:\n",
    "        return False\n",
    "    else:\n",
    "        for i in range (2,int(n**0.5)+1):\n",
    "            if n%i==0:\n",
    "                return False\n",
    "    return True        "
   ]
  },
  {
   "cell_type": "code",
   "execution_count": 26,
   "id": "f1c907f5-e5da-4890-bf5f-9fd73e098306",
   "metadata": {},
   "outputs": [
    {
     "name": "stdout",
     "output_type": "stream",
     "text": [
      "2 3 5 7 11 13 17 19 23 29 31 37 41 43 47 53 59 61 67 71 73 79 83 89 97 101 103 107 109 113 127 131 137 139 149 151 157 163 167 173 179 181 191 193 197 199 "
     ]
    }
   ],
   "source": [
    "for i in range(1,201):\n",
    "    if prime(i):\n",
    "        print(i,end=\" \")"
   ]
  },
  {
   "cell_type": "code",
   "execution_count": 34,
   "id": "6c691dfa-e17d-482d-9fa6-bf2ad2227027",
   "metadata": {},
   "outputs": [],
   "source": [
    "##5\n",
    "class Fibonacci:\n",
    "    def __init__(self, n_terms):\n",
    "        self.n_terms = n_terms  # Total number of terms\n",
    "        self.count = 0          # Current count\n",
    "        self.a, self.b = 0, 1   # First two Fibonacci numbers\n",
    "\n",
    "    def __iter__(self):\n",
    "        return self\n",
    "\n",
    "    def __next__(self):\n",
    "        if self.count >= self.n_terms:\n",
    "            raise StopIteration  # End of sequence\n",
    "        if self.count == 0:\n",
    "            self.count += 1\n",
    "            return self.a\n",
    "        elif self.count == 1:\n",
    "            self.count += 1\n",
    "            return self.b\n",
    "        else:\n",
    "            self.a, self.b = self.b, self.a + self.b\n",
    "            self.count += 1\n",
    "            return self.b"
   ]
  },
  {
   "cell_type": "code",
   "execution_count": 35,
   "id": "ddf8534d-f14c-40d6-b122-d60a552e08b9",
   "metadata": {},
   "outputs": [
    {
     "name": "stdout",
     "output_type": "stream",
     "text": [
      "0 1 1 2 3 5 8 13 21 34 "
     ]
    }
   ],
   "source": [
    "fib = Fibonacci(10)  # Generate first 10 Fibonacci numbers\n",
    "\n",
    "for num in fib:\n",
    "    print(num, end=\" \")"
   ]
  },
  {
   "cell_type": "code",
   "execution_count": 38,
   "id": "95c016ac-abcf-4bff-b45d-e1971970195c",
   "metadata": {},
   "outputs": [],
   "source": [
    "## 6\n",
    "def powers_of_two(n):\n",
    "    for i in range(n + 1):  # include the nth power\n",
    "        yield 2 ** i\n",
    "        "
   ]
  },
  {
   "cell_type": "code",
   "execution_count": 43,
   "id": "a1bd86d9-716a-4be8-bd3a-8fab2a223780",
   "metadata": {},
   "outputs": [
    {
     "data": {
      "text/plain": [
       "<generator object powers_of_two at 0x000002A304F8AA80>"
      ]
     },
     "execution_count": 43,
     "metadata": {},
     "output_type": "execute_result"
    }
   ],
   "source": [
    "y=powers_of_two(6)\n",
    "y"
   ]
  },
  {
   "cell_type": "code",
   "execution_count": 44,
   "id": "1b860720-b2cc-46b4-9604-0752b824b646",
   "metadata": {},
   "outputs": [
    {
     "name": "stdout",
     "output_type": "stream",
     "text": [
      "[1, 2, 4, 8, 16, 32, 64]\n"
     ]
    }
   ],
   "source": [
    "print(list(y))"
   ]
  },
  {
   "cell_type": "code",
   "execution_count": 1,
   "id": "db8b206a-9c24-49b1-b190-e30820c5e7d5",
   "metadata": {},
   "outputs": [],
   "source": [
    "##7\n",
    "def read_file_line_by_line(file_path):\n",
    "    with open(file_path, 'r') as file:\n",
    "        for line in file:\n",
    "            yield line.rstrip('\\n')"
   ]
  },
  {
   "cell_type": "code",
   "execution_count": 53,
   "id": "53a6ccd5-f8a4-4365-827b-3c742cd38a1f",
   "metadata": {},
   "outputs": [
    {
     "data": {
      "text/plain": [
       "[('b', 4), ('a', 3), ('c', 1)]"
      ]
     },
     "execution_count": 53,
     "metadata": {},
     "output_type": "execute_result"
    }
   ],
   "source": [
    "##8\n",
    "lists=[(\"a\",3),(\"b\",4),(\"c\",1)]\n",
    "a=sorted(lists,key=lambda x:x[1],reverse=True)\n",
    "a"
   ]
  },
  {
   "cell_type": "code",
   "execution_count": 56,
   "id": "de29005a-6843-4ebc-9c98-508f39349b23",
   "metadata": {},
   "outputs": [],
   "source": [
    "del list"
   ]
  },
  {
   "cell_type": "code",
   "execution_count": 59,
   "id": "47add4e8-0be1-4ee1-b0a0-3bbc781355db",
   "metadata": {},
   "outputs": [
    {
     "data": {
      "text/plain": [
       "[73.4, 93.2, 132.8, 109.4]"
      ]
     },
     "execution_count": 59,
     "metadata": {},
     "output_type": "execute_result"
    }
   ],
   "source": [
    "##9\n",
    "temp_cel=[23,34,56,43]\n",
    "temp_far=list(map(lambda x:(x*9/5)+32,temp_cel))\n",
    "temp_far"
   ]
  },
  {
   "cell_type": "code",
   "execution_count": 63,
   "id": "a4db2118-4fac-4c9f-8941-39b080d70a9a",
   "metadata": {},
   "outputs": [
    {
     "name": "stdout",
     "output_type": "stream",
     "text": [
      "pwsklls\n"
     ]
    }
   ],
   "source": [
    "##10\n",
    "vowels = 'aeiou'\n",
    "string = \"pwskills\"\n",
    "\n",
    "# filter out vowels\n",
    "no_vowels =''.join(filter(lambda x: x.lower() not in vowels, string))\n",
    "\n",
    "print(no_vowels)  # Output: pwsklls"
   ]
  },
  {
   "cell_type": "code",
   "execution_count": 66,
   "id": "30896ca1-e111-4f68-adeb-15effe793230",
   "metadata": {},
   "outputs": [
    {
     "data": {
      "text/plain": [
       "[(34587, 213.8), (98762, 294.0), (77226, 98.85000000000001), (88112, 74.97)]"
      ]
     },
     "execution_count": 66,
     "metadata": {},
     "output_type": "execute_result"
    }
   ],
   "source": [
    "##11\n",
    "order_list=[(34587,4,50.95),(98762,5,56.80),(77226,3,32.95),(88112,3,24.99)]\n",
    "a=list(map(lambda x:(x[0],x[1]*x[2]+10 if x[1]*x[2]>100 else x[1]*x[2]),order_list))\n",
    "a"
   ]
  },
  {
   "cell_type": "code",
   "execution_count": null,
   "id": "5e8851f9-0685-4730-93c6-b1735a646413",
   "metadata": {},
   "outputs": [],
   "source": []
  }
 ],
 "metadata": {
  "kernelspec": {
   "display_name": "Python 3 (ipykernel)",
   "language": "python",
   "name": "python3"
  },
  "language_info": {
   "codemirror_mode": {
    "name": "ipython",
    "version": 3
   },
   "file_extension": ".py",
   "mimetype": "text/x-python",
   "name": "python",
   "nbconvert_exporter": "python",
   "pygments_lexer": "ipython3",
   "version": "3.13.5"
  }
 },
 "nbformat": 4,
 "nbformat_minor": 5
}
